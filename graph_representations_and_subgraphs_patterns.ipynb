{
  "nbformat": 4,
  "nbformat_minor": 0,
  "metadata": {
    "colab": {
      "provenance": [],
      "authorship_tag": "ABX9TyMVpEEud5Xg/+dCesOoj2u8",
      "include_colab_link": true
    },
    "kernelspec": {
      "name": "python3",
      "display_name": "Python 3"
    },
    "language_info": {
      "name": "python"
    }
  },
  "cells": [
    {
      "cell_type": "markdown",
      "metadata": {
        "id": "view-in-github",
        "colab_type": "text"
      },
      "source": [
        "<a href=\"https://colab.research.google.com/github/Antoni2000/DynamicBottleneckDetector/blob/main/graph_representations_and_subgraphs_patterns.ipynb\" target=\"_parent\"><img src=\"https://colab.research.google.com/assets/colab-badge.svg\" alt=\"Open In Colab\"/></a>"
      ]
    },
    {
      "cell_type": "markdown",
      "source": [
        "# Graph representations"
      ],
      "metadata": {
        "id": "Wlb1WgU3zTn5"
      }
    },
    {
      "cell_type": "code",
      "source": [
        "import networkx as nx\n",
        "import matplotlib.pyplot as plt"
      ],
      "metadata": {
        "id": "c30krjFZVBEy"
      },
      "execution_count": 1,
      "outputs": []
    },
    {
      "cell_type": "code",
      "source": [
        "class Graph:\n",
        "    def __init__(self):\n",
        "        self.graph = nx.DiGraph()\n",
        "\n",
        "    def add_edge(self, vertex1, vertex2):\n",
        "        self.graph.add_edge(vertex1, vertex2)\n",
        "\n",
        "    def add_node(self, vertex, name):\n",
        "        color = 'blue' if 'HL' in name else 'orange' if 'BL' in name else 'yellow'\n",
        "        self.graph.add_nodes_from([(vertex, {'label': name, 'colour': color})])\n",
        "\n",
        "    def draw_graph(self):\n",
        "\n",
        "        pos = nx.kamada_kawai_layout(self.graph)\n",
        "        labels = nx.get_node_attributes(self.graph, 'label')  # Retrieve node labels\n",
        "        colors = nx.get_node_attributes(self.graph, 'colour').values()  # Retrieve node colors\n",
        "\n",
        "        nx.draw(self.graph, pos, with_labels=True, font_color='white', font_weight='bold', node_size=700, node_color=colors, font_size=8)\n",
        "\n",
        "        labels = nx.get_node_attributes(self.graph, 'label')\n",
        "        # Draw node labels on one side as a legend\n",
        "        legend_labels = {node: label for node, label in labels.items() if label}\n",
        "        for i, (node, label) in enumerate(legend_labels.items()):\n",
        "            plt.text(1.2, i * 0.1, f\"{node}: {label}\", color='black', fontsize=8, verticalalignment='center')\n",
        "\n",
        "        plt.axis('off')\n",
        "\n",
        "        plt.show()\n",
        "\n",
        "\n",
        "def parse_graph_data(file_path, node_name_dict, ids = None):\n",
        "    with open(file_path, 'r') as file:\n",
        "        lines = file.readlines()\n",
        "\n",
        "    graphs = []\n",
        "    current_graph = None\n",
        "\n",
        "    for line in lines:\n",
        "        line = line.strip().split()\n",
        "\n",
        "        if len(line) == 0:\n",
        "          continue\n",
        "\n",
        "        if ids:\n",
        "          if line[0] == 't':\n",
        "            #print(line[2], ids)\n",
        "            if int(line[2]) not in ids:\n",
        "              skip = True\n",
        "            else:\n",
        "              skip = False\n",
        "        else:\n",
        "          skip = False\n",
        "\n",
        "        if skip:\n",
        "          continue\n",
        "\n",
        "        if line[0] == 't':\n",
        "            current_graph = Graph()\n",
        "            graphs.append(current_graph)\n",
        "        elif line[0] == 'v':\n",
        "            node = int(line[1])\n",
        "            current_graph.add_node(node, node_name_dict[int(line[2])])\n",
        "        elif line[0] == 'e':\n",
        "            vertex1 = int(line[1])\n",
        "            vertex2 = int(line[2])\n",
        "            current_graph.add_edge(vertex1, vertex2)\n",
        "\n",
        "    return graphs"
      ],
      "metadata": {
        "id": "2BOZfI_JVEC5"
      },
      "execution_count": 17,
      "outputs": []
    },
    {
      "cell_type": "code",
      "source": [
        "file_path = '/content/cascadescorrectalaki_names.txt'\n",
        "\n",
        "with open(file_path, 'r') as file:\n",
        "    content = file.read()\n",
        "\n",
        "node_name_dict = {}\n",
        "lines = content.strip().split('\\n')\n",
        "\n",
        "for line in lines:\n",
        "    parts = line.split(',')\n",
        "    key = int(parts[1])  # Extract the last number after the comma\n",
        "    value = parts[0]  # Extract the part before the comma\n",
        "    node_name_dict[key] = value\n"
      ],
      "metadata": {
        "id": "g-QksQuQX83C"
      },
      "execution_count": 3,
      "outputs": []
    },
    {
      "cell_type": "code",
      "source": [
        "file_path = '/content/cacadescorrectalaki.txt'\n",
        "graphs = parse_graph_data(file_path, node_name_dict)\n",
        "\n",
        "for i, graph in enumerate(graphs):\n",
        "    print(f\"Graph {i}:\")\n",
        "    graph.draw_graph()\n"
      ],
      "metadata": {
        "id": "UpIXev_UUmKL"
      },
      "execution_count": null,
      "outputs": []
    },
    {
      "cell_type": "markdown",
      "source": [
        "# Subgraph Patterns"
      ],
      "metadata": {
        "id": "fPUWjp3tBPWP"
      }
    },
    {
      "cell_type": "code",
      "source": [
        "from collections import defaultdict"
      ],
      "metadata": {
        "id": "qZ2jmbbjBgMB"
      },
      "execution_count": 5,
      "outputs": []
    },
    {
      "cell_type": "code",
      "source": [
        "def parse_input(filename):\n",
        "    subgraphs = []\n",
        "    with open(filename, 'r') as file:\n",
        "        lines = file.readlines()\n",
        "        current_subgraph = None\n",
        "        for line in lines:\n",
        "            tokens = line.strip().split()\n",
        "            if len(tokens) == 0:\n",
        "              continue\n",
        "            if tokens[0] == 't':\n",
        "                if current_subgraph:\n",
        "                    subgraphs.append(current_subgraph)\n",
        "                current_subgraph = {'id':-1,'support': 0, 'vertices': [], 'edges': [], 'graphs': [], 'pattern': None, 'BL':False}\n",
        "                current_subgraph['id'] = int(tokens[2])\n",
        "                current_subgraph['support'] = int(tokens[4])\n",
        "            elif tokens[0] == 'v':\n",
        "                current_subgraph['vertices'].append((int(tokens[1]), int(tokens[2])))\n",
        "            elif tokens[0] == 'e':\n",
        "                current_subgraph['edges'].append((int(tokens[1]), int(tokens[2])))\n",
        "            elif tokens[0] == 'x':\n",
        "                current_subgraph['graphs'] = list(map(int, tokens[1:]))\n",
        "        if current_subgraph:\n",
        "            subgraphs.append(current_subgraph)\n",
        "    return subgraphs\n",
        "\n",
        "def classify_subgraphs(subgraphs, node_name_dict):\n",
        "    blo = 0\n",
        "    total = 0\n",
        "    for subgraph in subgraphs:\n",
        "        # I can check which one happens first for each edge by nowing the first node in the edge, it is a directed graph\n",
        "        # To know if it is forward/backward/parallel I need to know the the normal track of activities\n",
        "\n",
        "        forward = False\n",
        "        backward = False\n",
        "        parallel = False\n",
        "        neither = False\n",
        "        has_blockage = False\n",
        "        # It is not necessay once it is forward/ nackward/paralell and which node is first check the labels. If converge or diverge  (share?)\n",
        "        for e in subgraph['edges']:\n",
        "            # Node v1 happens before v2 by construction (directed graph)\n",
        "            v1, v2 = e\n",
        "\n",
        "            for n,id in subgraph['vertices']:\n",
        "                if n == v1:\n",
        "                    n1 = id\n",
        "                if n == v2:\n",
        "                    n2 = id\n",
        "\n",
        "            seg1 = node_name_dict[n1]\n",
        "            seg2 = node_name_dict[n2]\n",
        "\n",
        "            type1 = seg1.split(\"*\")\n",
        "            type2 = seg2.split(\"*\")\n",
        "\n",
        "            if type1[1][:2] == \"BL\":\n",
        "                has_blockage = True\n",
        "            if type2[1][:2] == \"BL\":\n",
        "                has_blockage = True\n",
        "\n",
        "            act11 = type1[0].split(\":\")[0]\n",
        "            act12 = type1[0].split(\":\")[1]\n",
        "\n",
        "            act21 = type2[0].split(\":\")[0]\n",
        "            act22 = type2[0].split(\":\")[1]\n",
        "\n",
        "            if act12 == act21:\n",
        "                forward = True\n",
        "            elif act11 == act22:\n",
        "                backward = True\n",
        "            elif act11 == act21 or act12 == act22:\n",
        "                parallel = True\n",
        "            else:\n",
        "                neither = True\n",
        "\n",
        "        if has_blockage:\n",
        "          blo += 1\n",
        "          subgraph['BL'] = True\n",
        "          if neither:\n",
        "              subgraph['pattern'] = 'Neither'\n",
        "          elif (forward and backward) or (forward and parallel) or (backward and parallel):\n",
        "              subgraph['pattern'] = 'Mixed'\n",
        "          elif forward:\n",
        "              subgraph['pattern'] = 'Forward'\n",
        "          elif backward:\n",
        "              subgraph['pattern'] = 'Backward'\n",
        "          elif parallel:\n",
        "              subgraph['pattern'] = 'Parallel'\n",
        "        total += 1\n",
        "    print(f\"Found {blo} subgraphs with at least one blockage from {total}\\n\")\n",
        "\n",
        "def subgraph_pattern_freq(subgraphs, min_support = 3, max_support = 6):\n",
        "    frequencies = defaultdict(int)\n",
        "    l = list()\n",
        "\n",
        "    for subgraph in subgraphs:\n",
        "        if subgraph['BL']:\n",
        "            support = subgraph['support']\n",
        "            #print(subgraph['id'], support)\n",
        "            if min_support <= support and support <= max_support:\n",
        "                frequencies[subgraph['pattern']] += 1\n",
        "                l.append((subgraph['id'], subgraph['pattern']))\n",
        "\n",
        "    return frequencies, l"
      ],
      "metadata": {
        "id": "T8ZVLuzGBOoM"
      },
      "execution_count": 6,
      "outputs": []
    },
    {
      "cell_type": "code",
      "source": [
        "filename = 'output_TKG.txt'  # Replace with your actual file name\n",
        "subgraphs = parse_input(filename)\n",
        "\n",
        "classify_subgraphs(subgraphs, node_name_dict)\n",
        "\n",
        "frequencies, id_type = subgraph_pattern_freq(subgraphs, min_support = 1)\n",
        "\n",
        "for patterntype, count in frequencies.items():\n",
        "    print(f\"Subgraphs {patterntype}: {count} occurrences\\n\")\n",
        "\n",
        "print(id_type)"
      ],
      "metadata": {
        "id": "uxjJJbLpBXpn"
      },
      "execution_count": null,
      "outputs": []
    },
    {
      "cell_type": "code",
      "source": [
        "filename = 'output_TKG.txt'\n",
        "ids=[1,2,3,5,6,7]\n",
        "graphs = parse_graph_data(filename, node_name_dict, ids)\n",
        "\n",
        "for i, graph in enumerate(graphs):\n",
        "    plt.figure()  # Create a new figure for each graph\n",
        "    plt.title(f\"Graph {ids[i]}\")\n",
        "    graph.draw_graph()  # Assuming draw_graph is a method that plots the graph\n",
        "plt.show()  # Display the current figure\n"
      ],
      "metadata": {
        "id": "k5_89eLada8S"
      },
      "execution_count": null,
      "outputs": []
    }
  ]
}